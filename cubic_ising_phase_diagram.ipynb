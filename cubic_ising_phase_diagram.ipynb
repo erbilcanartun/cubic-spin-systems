{
 "cells": [
  {
   "cell_type": "code",
   "execution_count": 1,
   "id": "e81b0811-aaa8-40a2-a175-74faed98ecac",
   "metadata": {},
   "outputs": [],
   "source": [
    "import numpy as np\n",
    "import mpmath as mp\n",
    "\n",
    "import matplotlib.pyplot as plt\n",
    "%matplotlib inline\n",
    "%config InlineBackend.figure_format='retina'\n",
    "\n",
    "from lib.renormalization.ising import *\n",
    "from lib.renormalization.utils import *\n",
    "#from lib.matrix_manipulation import matrix_average"
   ]
  },
  {
   "cell_type": "code",
   "execution_count": 2,
   "id": "f06a8601-6644-4120-ad6e-28f50b6cf0a6",
   "metadata": {},
   "outputs": [],
   "source": [
    "mp.mp.dps = 20\n",
    "mp.mp.pretty = True"
   ]
  },
  {
   "cell_type": "code",
   "execution_count": 3,
   "id": "be6f8131-58ca-4acb-87d2-d9b27d34a817",
   "metadata": {},
   "outputs": [],
   "source": [
    "J = 2\n",
    "H = 0\n",
    "\n",
    "n = 3\n",
    "u = 'x'\n",
    "\n",
    "p = 0.5\n",
    "N = 500\n",
    "\n",
    "ising = IsingRenormalizationGroup(J, H, n, u, p, N)"
   ]
  },
  {
   "cell_type": "code",
   "execution_count": 4,
   "id": "6f0a617c-d585-4cb5-a10d-64e6bbc2eb56",
   "metadata": {},
   "outputs": [
    {
     "data": {
      "text/plain": [
       "(19, 'unknown')"
      ]
     },
     "execution_count": 4,
     "metadata": {},
     "output_type": "execute_result"
    }
   ],
   "source": [
    "ising.phase()"
   ]
  },
  {
   "cell_type": "code",
   "execution_count": null,
   "id": "d7da69c9-8fc4-43fc-9700-3a1a7000dfb3",
   "metadata": {},
   "outputs": [],
   "source": []
  },
  {
   "cell_type": "code",
   "execution_count": null,
   "id": "73d49f39-14a2-41a4-89f7-bb318d5d4dcd",
   "metadata": {},
   "outputs": [],
   "source": [
    "%%time\n",
    "\n",
    "p = 0.5\n",
    "fielddir = 'xy'\n",
    "L = 500\n",
    "\n",
    "N = 60\n",
    "T_values = np.linspace(start=0.01, stop=1.2, num=N)\n",
    "HJ_values = np.linspace(start=0, stop=0.6, num=N)\n",
    "\n",
    "disorder, ferro, antiferro, x_aligned, x_antialigned, unknown, undetermined = [],[],[],[],[],[],[]\n",
    "n = 1 # Component number\n",
    "\n",
    "for i, T in enumerate(T_values):\n",
    "    for HJ in HJ_values:\n",
    "\n",
    "        k, phase = phase_sink(1/T, HJ/T, n, fielddir, p, L)\n",
    "\n",
    "        if phase == \"disorder\":\n",
    "            disorder.append([HJ, T])\n",
    "\n",
    "        elif phase == \"ferro\":\n",
    "            ferro.append([HJ, T])\n",
    "\n",
    "        elif phase == \"antiferro\":\n",
    "            antiferro.append([HJ, T])\n",
    "\n",
    "        elif phase == \"x_aligned\":\n",
    "            x_aligned.append([HJ, T])\n",
    "\n",
    "        elif phase == \"x_antialigned\":\n",
    "            x_antialigned.append([HJ, T])\n",
    "\n",
    "        elif phase == \"unknown\":\n",
    "            unknown.append([HJ, T])\n",
    "        \n",
    "        else:\n",
    "            undetermined.append([HJ, T])\n",
    "            \n",
    "        print(\"T = %.3f; H/J = %.3f; k = %d, phase = %s\" % (T, HJ, k, phase), end='')\n",
    "        print(\"\\t\\t\\t\", end='\\r')\n",
    "\n",
    "\n",
    "# Plot the results\n",
    "fig, ax = plt.subplots(nrows=1, ncols=1, figsize=(6, 6), dpi=100)\n",
    "fig.set_facecolor(\"white\")\n",
    "fig.tight_layout()\n",
    "plt.rc(group=\"font\", family=\"Arial\", weight=\"bold\")\n",
    "plt.rc(group=\"lines\", linewidth=1)\n",
    "plt.rc(group=\"axes\", linewidth=2)\n",
    "lw, fs = 2.5, 15\n",
    "\n",
    "kwargs = {\"markersize\":5.4, \"linestyle\":\"\", \"marker\":\"s\", \"zorder\":0, \"alpha\":1}\n",
    "if disorder: ax.plot(np.array(disorder)[:,0], np.array(disorder)[:,1], mfc=cdic[\"disorder\"], mec=cdic[\"disorder\"], **kwargs)\n",
    "if ferro: ax.plot(np.array(ferro)[:,0], np.array(ferro)[:,1], mfc=cdic[\"ferro\"], mec=cdic[\"ferro\"], **kwargs)\n",
    "if antiferro: ax.plot(np.array(antiferro)[:,0], np.array(antiferro)[:,1], mfc=cdic[\"antiferro\"], mec=cdic[\"antiferro\"], **kwargs)\n",
    "if x_aligned: ax.plot(np.array(x_aligned)[:,0], np.array(x_aligned)[:,1], mfc=cdic[\"x_aligned\"], mec=cdic[\"x_aligned\"], **kwargs)\n",
    "if x_antialigned: ax.plot(np.array(x_antialigned)[:,0], np.array(x_antialigned)[:,1], mfc=cdic[\"x_antialigned\"], mec=cdic[\"x_antialigned\"], **kwargs)\n",
    "ax.set_xlabel(\"Magnetic Field H/J\", fontsize=fs)\n",
    "ax.set_ylabel(\"Temperature 1/J\", fontsize=fs)\n",
    "ax.tick_params(axis=\"both\", direction=\"in\", labelbottom=True, labeltop=False, labelleft=True, labelright=False, bottom=True, top=True, left=True, right=True, length=4, width=lw, labelsize=fs)\n",
    "ax.axis([0, 0.08, 0, 0.65])\n",
    "plt.show()\n",
    "\n",
    "# Send the results as email\n",
    "data_text = f\"\"\"\n",
    "\n",
    "RESULTING DATA\n",
    "\n",
    "Phase: disorder\n",
    "{disorder}\n",
    "\n",
    "Phase: ferro\n",
    "{ferro}\n",
    "\n",
    "Phase: antiferro\n",
    "{antiferro}\n",
    "\n",
    "Phase: x_aligned\n",
    "{x_aligned}\n",
    "\n",
    "Phase: x_antialigned\n",
    "{x_antialigned}\n",
    "\n",
    "Phase: unknown\n",
    "{unknown}\n",
    "\n",
    "Phase: undetermined\n",
    "{undetermined}\"\"\""
   ]
  },
  {
   "cell_type": "code",
   "execution_count": null,
   "id": "52cb463d-44db-4154-9bfa-be1caa5699b2",
   "metadata": {},
   "outputs": [],
   "source": []
  }
 ],
 "metadata": {
  "kernelspec": {
   "display_name": "Python 3 (ipykernel)",
   "language": "python",
   "name": "python3"
  },
  "language_info": {
   "codemirror_mode": {
    "name": "ipython",
    "version": 3
   },
   "file_extension": ".py",
   "mimetype": "text/x-python",
   "name": "python",
   "nbconvert_exporter": "python",
   "pygments_lexer": "ipython3",
   "version": "3.12.2"
  }
 },
 "nbformat": 4,
 "nbformat_minor": 5
}
