{
 "cells": [
  {
   "cell_type": "markdown",
   "id": "c8a706cc-b5d5-47ce-92b3-b6457787de77",
   "metadata": {},
   "source": [
    "# Imports and settings"
   ]
  },
  {
   "cell_type": "code",
   "execution_count": 1,
   "id": "259e51fe-cc0a-441a-9750-cada93b9abf9",
   "metadata": {},
   "outputs": [],
   "source": [
    "import numpy as np\n",
    "import mpmath as mp\n",
    "\n",
    "import matplotlib.pyplot as plt\n",
    "%matplotlib inline\n",
    "%config InlineBackend.figure_format='retina'\n",
    "\n",
    "from lib.renormalization.ising import *\n",
    "from lib.matrix_manipulation import matrix_average"
   ]
  },
  {
   "cell_type": "code",
   "execution_count": 2,
   "id": "92f6fad3-dfdf-4310-bb2a-1e95d1d38453",
   "metadata": {},
   "outputs": [],
   "source": [
    "mp.mp.dps = 30\n",
    "mp.mp.pretty = True"
   ]
  },
  {
   "cell_type": "markdown",
   "id": "99ef77d9-28fd-4e41-b494-6a662a081c09",
   "metadata": {},
   "source": [
    "# Create model instance"
   ]
  },
  {
   "cell_type": "code",
   "execution_count": 3,
   "id": "77831980-89de-45d9-ab08-fff613aeb79e",
   "metadata": {
    "scrolled": true
   },
   "outputs": [],
   "source": [
    "# Create instance\n",
    "J = .2\n",
    "H = 0\n",
    "\n",
    "n = 1\n",
    "u = 'x'\n",
    "\n",
    "p = 0\n",
    "N = 500\n",
    "\n",
    "ising = IsingRenormalizationGroup(J, H, n, u, p, N)"
   ]
  },
  {
   "cell_type": "markdown",
   "id": "53131574-36e8-48c4-b756-d9639308a384",
   "metadata": {},
   "source": [
    "# RG flow: Average matrix"
   ]
  },
  {
   "cell_type": "code",
   "execution_count": 4,
   "id": "a58104c6-5ec3-4f04-939d-e84e38b64a8b",
   "metadata": {
    "scrolled": true
   },
   "outputs": [
    {
     "name": "stdout",
     "output_type": "stream",
     "text": [
      "[ 1.22  0.819]\n",
      "[0.819   1.22]\n",
      "\n",
      "[  1.0  0.871]\n",
      "[0.871    1.0]\n",
      "\n",
      "[  1.0  0.994]\n",
      "[0.994    1.0]\n",
      "\n",
      "[1.0  1.0]\n",
      "[1.0  1.0]\n",
      "\n",
      "[1.0  1.0]\n",
      "[1.0  1.0]\n",
      "\n",
      "[1.0  1.0]\n",
      "[1.0  1.0]\n",
      "\n",
      "[1.0  1.0]\n",
      "[1.0  1.0]\n",
      "\n",
      "[1.0  1.0]\n",
      "[1.0  1.0]\n",
      "\n",
      "[1.0  1.0]\n",
      "[1.0  1.0]\n",
      "\n",
      "[1.0  1.0]\n",
      "[1.0  1.0]\n",
      "\n",
      "[1.0  1.0]\n",
      "[1.0  1.0]\n",
      "\n",
      "[1.0  1.0]\n",
      "[1.0  1.0]\n",
      "\n",
      "[1.0  1.0]\n",
      "[1.0  1.0]\n",
      "\n",
      "[1.0  1.0]\n",
      "[1.0  1.0]\n",
      "\n",
      "[1.0  1.0]\n",
      "[1.0  1.0]\n",
      "\n",
      "[1.0  1.0]\n",
      "[1.0  1.0]\n",
      "\n",
      "[1.0  1.0]\n",
      "[1.0  1.0]\n",
      "\n",
      "[1.0  1.0]\n",
      "[1.0  1.0]\n",
      "\n",
      "[1.0  1.0]\n",
      "[1.0  1.0]\n",
      "\n",
      "[1.0  1.0]\n",
      "[1.0  1.0]\n",
      "\n",
      "[1.0  1.0]\n",
      "[1.0  1.0]\n",
      "\n",
      "[1.0  1.0]\n",
      "[1.0  1.0]\n",
      "\n",
      "[1.0  1.0]\n",
      "[1.0  1.0]\n",
      "\n",
      "[1.0  1.0]\n",
      "[1.0  1.0]\n",
      "\n",
      "[1.0  1.0]\n",
      "[1.0  1.0]\n",
      "\n",
      "[1.0  1.0]\n",
      "[1.0  1.0]\n",
      "\n",
      "[1.0  1.0]\n",
      "[1.0  1.0]\n",
      "\n",
      "[1.0  1.0]\n",
      "[1.0  1.0]\n",
      "\n",
      "[1.0  1.0]\n",
      "[1.0  1.0]\n",
      "\n",
      "[1.0  1.0]\n",
      "[1.0  1.0]\n",
      "\n",
      "[1.0  1.0]\n",
      "[1.0  1.0]\n"
     ]
    }
   ],
   "source": [
    "# Calculate renormalization group flow\n",
    "matrices = ising.transfer_matrices\n",
    "t = matrix_average(matrices)\n",
    "mp.nprint(t, n=3)\n",
    "\n",
    "for k in range(30):\n",
    "    matrices = ising.renormalize(matrices)\n",
    "    t = matrix_average(matrices)\n",
    "    print()\n",
    "    mp.nprint(t, n=3)"
   ]
  },
  {
   "cell_type": "markdown",
   "id": "0200942b-d354-4d90-b603-092f6614a1e7",
   "metadata": {},
   "source": [
    "# RG flow: i'th matrix"
   ]
  },
  {
   "cell_type": "code",
   "execution_count": null,
   "id": "b9c4856c-1c1a-456a-a5de-f5c617e4e61d",
   "metadata": {},
   "outputs": [],
   "source": [
    "# Calculate renormalization group flow\n",
    "matrices = ising.transfer_matrices\n",
    "mp.nprint(matrices[19], n=3)\n",
    "\n",
    "for k in range(30):\n",
    "    matrices = ising.renormalize(matrices)\n",
    "    t = matrix_average(matrices)\n",
    "    print()\n",
    "    mp.nprint(t, n=3)"
   ]
  }
 ],
 "metadata": {
  "kernelspec": {
   "display_name": "Python 3 (ipykernel)",
   "language": "python",
   "name": "python3"
  },
  "language_info": {
   "codemirror_mode": {
    "name": "ipython",
    "version": 3
   },
   "file_extension": ".py",
   "mimetype": "text/x-python",
   "name": "python",
   "nbconvert_exporter": "python",
   "pygments_lexer": "ipython3",
   "version": "3.12.2"
  }
 },
 "nbformat": 4,
 "nbformat_minor": 5
}
