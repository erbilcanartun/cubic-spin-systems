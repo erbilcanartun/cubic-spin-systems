{
 "cells": [
  {
   "cell_type": "code",
   "execution_count": 1,
   "id": "3a875141-14fe-4f44-8206-38fb5d758ce6",
   "metadata": {},
   "outputs": [
    {
     "ename": "SyntaxError",
     "evalue": "invalid syntax (clock_renormalization.py, line 45)",
     "output_type": "error",
     "traceback": [
      "Traceback \u001b[0;36m(most recent call last)\u001b[0m:\n",
      "\u001b[0m  File \u001b[1;32m~/Documents/GitHub/cubic-spin-systems/.venv/lib/python3.12/site-packages/IPython/core/interactiveshell.py:3577\u001b[0m in \u001b[1;35mrun_code\u001b[0m\n    exec(code_obj, self.user_global_ns, self.user_ns)\u001b[0m\n",
      "\u001b[0;36m  Cell \u001b[0;32mIn[1], line 8\u001b[0;36m\n\u001b[0;31m    from lib.renormalization.clock_renormalization import *\u001b[0;36m\n",
      "\u001b[0;36m  File \u001b[0;32m~/Documents/GitHub/cubic-spin-systems/lib/renormalization/clock_renormalization.py:45\u001b[0;36m\u001b[0m\n\u001b[0;31m    return t\u001b[0m\n\u001b[0m    ^\u001b[0m\n\u001b[0;31mSyntaxError\u001b[0m\u001b[0;31m:\u001b[0m invalid syntax\n"
     ]
    }
   ],
   "source": [
    "import numpy as np\n",
    "import mpmath as mp\n",
    "\n",
    "import matplotlib.pyplot as plt\n",
    "%matplotlib inline\n",
    "%config InlineBackend.figure_format='retina'\n",
    "\n",
    "from lib.renormalization.clock_renormalization import *"
   ]
  },
  {
   "cell_type": "code",
   "execution_count": null,
   "id": "5b894a4f-d0ef-4145-af50-57ecdb1dadd5",
   "metadata": {},
   "outputs": [],
   "source": [
    "mp.mp.dps = 20;\n",
    "mp.mp.pretty = False"
   ]
  },
  {
   "cell_type": "markdown",
   "id": "466992a4-df34-49fb-be9c-dc0a081c208e",
   "metadata": {},
   "source": [
    "# Renormalization group flow"
   ]
  },
  {
   "cell_type": "code",
   "execution_count": null,
   "id": "5f6d4f4b-7b3c-4626-8d79-52c0024615a0",
   "metadata": {},
   "outputs": [],
   "source": [
    "J = 1\n",
    "K = 1\n",
    "\n",
    "clock = rg.ClockRenormalizationGroup(J, K, method='old')"
   ]
  },
  {
   "cell_type": "code",
   "execution_count": null,
   "id": "d72a5763-4670-4fbe-a4df-66d4710ed8dc",
   "metadata": {},
   "outputs": [],
   "source": [
    "n = 25\n",
    "T = clock.transfer_matrix\n",
    "T = clock.renormalize(T, n)\n",
    "print(T, end='\\n\\n')"
   ]
  },
  {
   "cell_type": "code",
   "execution_count": null,
   "id": "b3fdff05-52b1-43a9-bb2b-03136f5f6068",
   "metadata": {},
   "outputs": [],
   "source": []
  },
  {
   "cell_type": "code",
   "execution_count": null,
   "id": "faeda3e3-11e4-4484-b064-f1e29be3725a",
   "metadata": {},
   "outputs": [],
   "source": []
  }
 ],
 "metadata": {
  "kernelspec": {
   "display_name": "Python 3 (ipykernel)",
   "language": "python",
   "name": "python3"
  },
  "language_info": {
   "codemirror_mode": {
    "name": "ipython",
    "version": 3
   },
   "file_extension": ".py",
   "mimetype": "text/x-python",
   "name": "python",
   "nbconvert_exporter": "python",
   "pygments_lexer": "ipython3",
   "version": "3.12.5"
  }
 },
 "nbformat": 4,
 "nbformat_minor": 5
}
